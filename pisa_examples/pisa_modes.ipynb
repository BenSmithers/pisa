{
 "cells": [
  {
   "cell_type": "markdown",
   "metadata": {},
   "source": [
    "# PISA modes\n",
    "\n",
    "Stages in PSIA usually have a `calc_mode` and an `apply_mode`, which specify in what representation of the data operations are performed.\n",
    "Often calculations can be faster wehn peformed on grids, but we need to be careful in order to ensure that we are not introducing large errors.\n",
    "Also note that you can change the modes on runtime, but after doing so need to `setup()` the stage or pipleine again.\n",
    "\n",
    "If the output of a stage is different than whjat, for example, the next stage needs those to have as inputs, they are automatically translated by PISA. So you can mix and match, but be aware that translations will introduce computational cost and hence may slow things down."
   ]
  },
  {
   "cell_type": "code",
   "execution_count": 1,
   "metadata": {},
   "outputs": [
    {
     "name": "stderr",
     "output_type": "stream",
     "text": [
      "<< PISA is running in double precision (FP64) mode; numba is running on CPU (single core) >>\n"
     ]
    }
   ],
   "source": [
    "import numpy as np\n",
    "import matplotlib.pyplot as plt\n",
    "from pisa.core.pipeline import Pipeline"
   ]
  },
  {
   "cell_type": "markdown",
   "metadata": {},
   "source": [
    "We will configure our neutrino pipleine in 3 different ways:\n",
    "* The standard form with *some* calculation on grids\n",
    "* All calculations on an eent-by-event basis (the most correct, but by far slowest way)\n",
    "* All calcultions on grids (Usually faster for large smples)"
   ]
  },
  {
   "cell_type": "code",
   "execution_count": 2,
   "metadata": {},
   "outputs": [],
   "source": [
    "mixed_modes_model = Pipeline(\"settings/pipeline/IceCube_3y_neutrinos.cfg\")\n",
    "mixed_modes_model.profile = True"
   ]
  },
  {
   "cell_type": "code",
   "execution_count": 3,
   "metadata": {},
   "outputs": [],
   "source": [
    "events_modes_model = Pipeline(\"settings/pipeline/IceCube_3y_neutrinos.cfg\")\n",
    "events_modes_model.profile = True\n",
    "\n",
    "events_modes_model.stages[1].calc_mode = \"events\"\n",
    "events_modes_model.stages[2].calc_mode = \"events\"\n",
    "events_modes_model.stages[3].calc_mode = \"events\"\n",
    "\n",
    "events_modes_model.setup()"
   ]
  },
  {
   "cell_type": "code",
   "execution_count": 4,
   "metadata": {},
   "outputs": [],
   "source": [
    "grid_modes_model = Pipeline(\"settings/pipeline/IceCube_3y_neutrinos.cfg\")\n",
    "grid_modes_model.profile = True\n",
    "\n",
    "true_binning = grid_modes_model.stages[1].calc_mode\n",
    "\n",
    "grid_modes_model.stages[0].apply_mode = true_binning\n",
    "grid_modes_model.stages[1].apply_mode = true_binning\n",
    "grid_modes_model.stages[2].apply_mode = true_binning\n",
    "grid_modes_model.stages[3].apply_mode = true_binning\n",
    "grid_modes_model.stages[4].apply_mode = true_binning\n",
    "grid_modes_model.stages[4].calc_mode = true_binning\n",
    "grid_modes_model.stages[5].calc_mode = true_binning\n",
    "\n",
    "grid_modes_model.setup()"
   ]
  },
  {
   "cell_type": "code",
   "execution_count": 5,
   "metadata": {},
   "outputs": [
    {
     "data": {
      "text/html": [
       "<table>\n",
       "<thead>\n",
       "<tr><th style=\"text-align: right;\">  stage number</th><th style=\"text-align: center;\">    name     </th><th style=\"text-align: center;\"> calc_mode </th><th style=\"text-align: center;\"> apply_mode </th><th style=\"text-align: center;\"> has setup </th><th style=\"text-align: center;\"> has compute </th><th style=\"text-align: center;\"> has apply </th><th style=\"text-align: center;\"> # fixed params </th><th style=\"text-align: center;\"> # free params </th></tr>\n",
       "</thead>\n",
       "<tbody>\n",
       "<tr><td style=\"text-align: right;\">             0</td><td style=\"text-align: center;\"> csv_loader  </td><td style=\"text-align: center;\">  events   </td><td style=\"text-align: center;\">   events   </td><td style=\"text-align: center;\">   True    </td><td style=\"text-align: center;\">    False    </td><td style=\"text-align: center;\">   True    </td><td style=\"text-align: center;\">       0        </td><td style=\"text-align: center;\">       0       </td></tr>\n",
       "<tr><td style=\"text-align: right;\">             1</td><td style=\"text-align: center;\">  honda_ip   </td><td style=\"text-align: center;\">      \"true_allsky_fine\":\n",
       "200 (true_energy) x 200 (true_coszen)      </td><td style=\"text-align: center;\">   events   </td><td style=\"text-align: center;\">   True    </td><td style=\"text-align: center;\">    True     </td><td style=\"text-align: center;\">   False   </td><td style=\"text-align: center;\">       1        </td><td style=\"text-align: center;\">       0       </td></tr>\n",
       "<tr><td style=\"text-align: right;\">             2</td><td style=\"text-align: center;\"> barr_simple </td><td style=\"text-align: center;\">      \"true_allsky_fine\":\n",
       "200 (true_energy) x 200 (true_coszen)      </td><td style=\"text-align: center;\">   events   </td><td style=\"text-align: center;\">   True    </td><td style=\"text-align: center;\">    True     </td><td style=\"text-align: center;\">   False   </td><td style=\"text-align: center;\">       1        </td><td style=\"text-align: center;\">       4       </td></tr>\n",
       "<tr><td style=\"text-align: right;\">             3</td><td style=\"text-align: center;\">    prob3    </td><td style=\"text-align: center;\">      \"true_allsky_fine\":\n",
       "200 (true_energy) x 200 (true_coszen)      </td><td style=\"text-align: center;\">   events   </td><td style=\"text-align: center;\">   True    </td><td style=\"text-align: center;\">    True     </td><td style=\"text-align: center;\">   True    </td><td style=\"text-align: center;\">       9        </td><td style=\"text-align: center;\">       3       </td></tr>\n",
       "<tr><td style=\"text-align: right;\">             4</td><td style=\"text-align: center;\">    aeff     </td><td style=\"text-align: center;\">  events   </td><td style=\"text-align: center;\">   events   </td><td style=\"text-align: center;\">   False   </td><td style=\"text-align: center;\">    False    </td><td style=\"text-align: center;\">   True    </td><td style=\"text-align: center;\">       2        </td><td style=\"text-align: center;\">       3       </td></tr>\n",
       "<tr><td style=\"text-align: right;\">             5</td><td style=\"text-align: center;\">    hist     </td><td style=\"text-align: center;\">  events   </td><td style=\"text-align: center;\">      \"dragon_datarelease\":\n",
       "8 (reco_energy) x 8 (reco_coszen) x 2 (pid)       </td><td style=\"text-align: center;\">   True    </td><td style=\"text-align: center;\">    False    </td><td style=\"text-align: center;\">   True    </td><td style=\"text-align: center;\">       0        </td><td style=\"text-align: center;\">       0       </td></tr>\n",
       "<tr><td style=\"text-align: right;\">             6</td><td style=\"text-align: center;\">hypersurfaces</td><td style=\"text-align: center;\">      \"dragon_datarelease\":\n",
       "8 (reco_energy) x 8 (reco_coszen) x 2 (pid)      </td><td style=\"text-align: center;\">      \"dragon_datarelease\":\n",
       "8 (reco_energy) x 8 (reco_coszen) x 2 (pid)       </td><td style=\"text-align: center;\">   True    </td><td style=\"text-align: center;\">    True     </td><td style=\"text-align: center;\">   True    </td><td style=\"text-align: center;\">       0        </td><td style=\"text-align: center;\">       5       </td></tr>\n",
       "</tbody>\n",
       "</table>"
      ],
      "text/plain": [
       "   stage number |     name      |                  calc_mode                  |                 apply_mode                  |  has setup  |  has compute  |  has apply  |  # fixed params  |  # free params\n",
       "----------------+---------------+---------------------------------------------+---------------------------------------------+-------------+---------------+-------------+------------------+-----------------\n",
       "              0 |  csv_loader   |                   events                    |                   events                    |    True     |     False     |    True     |        0         |        0\n",
       "              1 |   honda_ip    |             \"true_allsky_fine\":             |                   events                    |    True     |     True      |    False    |        1         |        0\n",
       "                |               |    200 (true_energy) x 200 (true_coszen)    |                                             |             |               |             |                  |\n",
       "              2 |  barr_simple  |             \"true_allsky_fine\":             |                   events                    |    True     |     True      |    False    |        1         |        4\n",
       "                |               |    200 (true_energy) x 200 (true_coszen)    |                                             |             |               |             |                  |\n",
       "              3 |     prob3     |             \"true_allsky_fine\":             |                   events                    |    True     |     True      |    True     |        9         |        3\n",
       "                |               |    200 (true_energy) x 200 (true_coszen)    |                                             |             |               |             |                  |\n",
       "              4 |     aeff      |                   events                    |                   events                    |    False    |     False     |    True     |        2         |        3\n",
       "              5 |     hist      |                   events                    |            \"dragon_datarelease\":            |    True     |     False     |    True     |        0         |        0\n",
       "                |               |                                             | 8 (reco_energy) x 8 (reco_coszen) x 2 (pid) |             |               |             |                  |\n",
       "              6 | hypersurfaces |            \"dragon_datarelease\":            |            \"dragon_datarelease\":            |    True     |     True      |    True     |        0         |        5\n",
       "                |               | 8 (reco_energy) x 8 (reco_coszen) x 2 (pid) | 8 (reco_energy) x 8 (reco_coszen) x 2 (pid) |             |               |             |                  |"
      ]
     },
     "execution_count": 5,
     "metadata": {},
     "output_type": "execute_result"
    }
   ],
   "source": [
    "mixed_modes_model"
   ]
  },
  {
   "cell_type": "code",
   "execution_count": 6,
   "metadata": {},
   "outputs": [
    {
     "data": {
      "text/html": [
       "<table>\n",
       "<thead>\n",
       "<tr><th style=\"text-align: right;\">  stage number</th><th style=\"text-align: center;\">    name     </th><th style=\"text-align: center;\"> calc_mode </th><th style=\"text-align: center;\"> apply_mode </th><th style=\"text-align: center;\"> has setup </th><th style=\"text-align: center;\"> has compute </th><th style=\"text-align: center;\"> has apply </th><th style=\"text-align: center;\"> # fixed params </th><th style=\"text-align: center;\"> # free params </th></tr>\n",
       "</thead>\n",
       "<tbody>\n",
       "<tr><td style=\"text-align: right;\">             0</td><td style=\"text-align: center;\"> csv_loader  </td><td style=\"text-align: center;\">  events   </td><td style=\"text-align: center;\">   events   </td><td style=\"text-align: center;\">   True    </td><td style=\"text-align: center;\">    False    </td><td style=\"text-align: center;\">   True    </td><td style=\"text-align: center;\">       0        </td><td style=\"text-align: center;\">       0       </td></tr>\n",
       "<tr><td style=\"text-align: right;\">             1</td><td style=\"text-align: center;\">  honda_ip   </td><td style=\"text-align: center;\">  events   </td><td style=\"text-align: center;\">   events   </td><td style=\"text-align: center;\">   True    </td><td style=\"text-align: center;\">    True     </td><td style=\"text-align: center;\">   False   </td><td style=\"text-align: center;\">       1        </td><td style=\"text-align: center;\">       0       </td></tr>\n",
       "<tr><td style=\"text-align: right;\">             2</td><td style=\"text-align: center;\"> barr_simple </td><td style=\"text-align: center;\">  events   </td><td style=\"text-align: center;\">   events   </td><td style=\"text-align: center;\">   True    </td><td style=\"text-align: center;\">    True     </td><td style=\"text-align: center;\">   False   </td><td style=\"text-align: center;\">       1        </td><td style=\"text-align: center;\">       4       </td></tr>\n",
       "<tr><td style=\"text-align: right;\">             3</td><td style=\"text-align: center;\">    prob3    </td><td style=\"text-align: center;\">  events   </td><td style=\"text-align: center;\">   events   </td><td style=\"text-align: center;\">   True    </td><td style=\"text-align: center;\">    True     </td><td style=\"text-align: center;\">   True    </td><td style=\"text-align: center;\">       9        </td><td style=\"text-align: center;\">       3       </td></tr>\n",
       "<tr><td style=\"text-align: right;\">             4</td><td style=\"text-align: center;\">    aeff     </td><td style=\"text-align: center;\">  events   </td><td style=\"text-align: center;\">   events   </td><td style=\"text-align: center;\">   False   </td><td style=\"text-align: center;\">    False    </td><td style=\"text-align: center;\">   True    </td><td style=\"text-align: center;\">       2        </td><td style=\"text-align: center;\">       3       </td></tr>\n",
       "<tr><td style=\"text-align: right;\">             5</td><td style=\"text-align: center;\">    hist     </td><td style=\"text-align: center;\">  events   </td><td style=\"text-align: center;\">      \"dragon_datarelease\":\n",
       "8 (reco_energy) x 8 (reco_coszen) x 2 (pid)       </td><td style=\"text-align: center;\">   True    </td><td style=\"text-align: center;\">    False    </td><td style=\"text-align: center;\">   True    </td><td style=\"text-align: center;\">       0        </td><td style=\"text-align: center;\">       0       </td></tr>\n",
       "<tr><td style=\"text-align: right;\">             6</td><td style=\"text-align: center;\">hypersurfaces</td><td style=\"text-align: center;\">      \"dragon_datarelease\":\n",
       "8 (reco_energy) x 8 (reco_coszen) x 2 (pid)      </td><td style=\"text-align: center;\">      \"dragon_datarelease\":\n",
       "8 (reco_energy) x 8 (reco_coszen) x 2 (pid)       </td><td style=\"text-align: center;\">   True    </td><td style=\"text-align: center;\">    True     </td><td style=\"text-align: center;\">   True    </td><td style=\"text-align: center;\">       0        </td><td style=\"text-align: center;\">       5       </td></tr>\n",
       "</tbody>\n",
       "</table>"
      ],
      "text/plain": [
       "   stage number |     name      |                  calc_mode                  |                 apply_mode                  |  has setup  |  has compute  |  has apply  |  # fixed params  |  # free params\n",
       "----------------+---------------+---------------------------------------------+---------------------------------------------+-------------+---------------+-------------+------------------+-----------------\n",
       "              0 |  csv_loader   |                   events                    |                   events                    |    True     |     False     |    True     |        0         |        0\n",
       "              1 |   honda_ip    |                   events                    |                   events                    |    True     |     True      |    False    |        1         |        0\n",
       "              2 |  barr_simple  |                   events                    |                   events                    |    True     |     True      |    False    |        1         |        4\n",
       "              3 |     prob3     |                   events                    |                   events                    |    True     |     True      |    True     |        9         |        3\n",
       "              4 |     aeff      |                   events                    |                   events                    |    False    |     False     |    True     |        2         |        3\n",
       "              5 |     hist      |                   events                    |            \"dragon_datarelease\":            |    True     |     False     |    True     |        0         |        0\n",
       "                |               |                                             | 8 (reco_energy) x 8 (reco_coszen) x 2 (pid) |             |               |             |                  |\n",
       "              6 | hypersurfaces |            \"dragon_datarelease\":            |            \"dragon_datarelease\":            |    True     |     True      |    True     |        0         |        5\n",
       "                |               | 8 (reco_energy) x 8 (reco_coszen) x 2 (pid) | 8 (reco_energy) x 8 (reco_coszen) x 2 (pid) |             |               |             |                  |"
      ]
     },
     "execution_count": 6,
     "metadata": {},
     "output_type": "execute_result"
    }
   ],
   "source": [
    "events_modes_model"
   ]
  },
  {
   "cell_type": "code",
   "execution_count": 7,
   "metadata": {},
   "outputs": [
    {
     "data": {
      "text/html": [
       "<table>\n",
       "<thead>\n",
       "<tr><th style=\"text-align: right;\">  stage number</th><th style=\"text-align: center;\">    name     </th><th style=\"text-align: center;\"> calc_mode </th><th style=\"text-align: center;\"> apply_mode </th><th style=\"text-align: center;\"> has setup </th><th style=\"text-align: center;\"> has compute </th><th style=\"text-align: center;\"> has apply </th><th style=\"text-align: center;\"> # fixed params </th><th style=\"text-align: center;\"> # free params </th></tr>\n",
       "</thead>\n",
       "<tbody>\n",
       "<tr><td style=\"text-align: right;\">             0</td><td style=\"text-align: center;\"> csv_loader  </td><td style=\"text-align: center;\">  events   </td><td style=\"text-align: center;\">      \"true_allsky_fine\":\n",
       "200 (true_energy) x 200 (true_coszen)       </td><td style=\"text-align: center;\">   True    </td><td style=\"text-align: center;\">    False    </td><td style=\"text-align: center;\">   True    </td><td style=\"text-align: center;\">       0        </td><td style=\"text-align: center;\">       0       </td></tr>\n",
       "<tr><td style=\"text-align: right;\">             1</td><td style=\"text-align: center;\">  honda_ip   </td><td style=\"text-align: center;\">      \"true_allsky_fine\":\n",
       "200 (true_energy) x 200 (true_coszen)      </td><td style=\"text-align: center;\">      \"true_allsky_fine\":\n",
       "200 (true_energy) x 200 (true_coszen)       </td><td style=\"text-align: center;\">   True    </td><td style=\"text-align: center;\">    True     </td><td style=\"text-align: center;\">   False   </td><td style=\"text-align: center;\">       1        </td><td style=\"text-align: center;\">       0       </td></tr>\n",
       "<tr><td style=\"text-align: right;\">             2</td><td style=\"text-align: center;\"> barr_simple </td><td style=\"text-align: center;\">      \"true_allsky_fine\":\n",
       "200 (true_energy) x 200 (true_coszen)      </td><td style=\"text-align: center;\">      \"true_allsky_fine\":\n",
       "200 (true_energy) x 200 (true_coszen)       </td><td style=\"text-align: center;\">   True    </td><td style=\"text-align: center;\">    True     </td><td style=\"text-align: center;\">   False   </td><td style=\"text-align: center;\">       1        </td><td style=\"text-align: center;\">       4       </td></tr>\n",
       "<tr><td style=\"text-align: right;\">             3</td><td style=\"text-align: center;\">    prob3    </td><td style=\"text-align: center;\">      \"true_allsky_fine\":\n",
       "200 (true_energy) x 200 (true_coszen)      </td><td style=\"text-align: center;\">      \"true_allsky_fine\":\n",
       "200 (true_energy) x 200 (true_coszen)       </td><td style=\"text-align: center;\">   True    </td><td style=\"text-align: center;\">    True     </td><td style=\"text-align: center;\">   True    </td><td style=\"text-align: center;\">       9        </td><td style=\"text-align: center;\">       3       </td></tr>\n",
       "<tr><td style=\"text-align: right;\">             4</td><td style=\"text-align: center;\">    aeff     </td><td style=\"text-align: center;\">      \"true_allsky_fine\":\n",
       "200 (true_energy) x 200 (true_coszen)      </td><td style=\"text-align: center;\">      \"true_allsky_fine\":\n",
       "200 (true_energy) x 200 (true_coszen)       </td><td style=\"text-align: center;\">   False   </td><td style=\"text-align: center;\">    False    </td><td style=\"text-align: center;\">   True    </td><td style=\"text-align: center;\">       2        </td><td style=\"text-align: center;\">       3       </td></tr>\n",
       "<tr><td style=\"text-align: right;\">             5</td><td style=\"text-align: center;\">    hist     </td><td style=\"text-align: center;\">      \"true_allsky_fine\":\n",
       "200 (true_energy) x 200 (true_coszen)      </td><td style=\"text-align: center;\">      \"dragon_datarelease\":\n",
       "8 (reco_energy) x 8 (reco_coszen) x 2 (pid)       </td><td style=\"text-align: center;\">   True    </td><td style=\"text-align: center;\">    False    </td><td style=\"text-align: center;\">   True    </td><td style=\"text-align: center;\">       0        </td><td style=\"text-align: center;\">       0       </td></tr>\n",
       "<tr><td style=\"text-align: right;\">             6</td><td style=\"text-align: center;\">hypersurfaces</td><td style=\"text-align: center;\">      \"dragon_datarelease\":\n",
       "8 (reco_energy) x 8 (reco_coszen) x 2 (pid)      </td><td style=\"text-align: center;\">      \"dragon_datarelease\":\n",
       "8 (reco_energy) x 8 (reco_coszen) x 2 (pid)       </td><td style=\"text-align: center;\">   True    </td><td style=\"text-align: center;\">    True     </td><td style=\"text-align: center;\">   True    </td><td style=\"text-align: center;\">       0        </td><td style=\"text-align: center;\">       5       </td></tr>\n",
       "</tbody>\n",
       "</table>"
      ],
      "text/plain": [
       "   stage number |     name      |                  calc_mode                  |                 apply_mode                  |  has setup  |  has compute  |  has apply  |  # fixed params  |  # free params\n",
       "----------------+---------------+---------------------------------------------+---------------------------------------------+-------------+---------------+-------------+------------------+-----------------\n",
       "              0 |  csv_loader   |                   events                    |             \"true_allsky_fine\":             |    True     |     False     |    True     |        0         |        0\n",
       "                |               |                                             |    200 (true_energy) x 200 (true_coszen)    |             |               |             |                  |\n",
       "              1 |   honda_ip    |             \"true_allsky_fine\":             |             \"true_allsky_fine\":             |    True     |     True      |    False    |        1         |        0\n",
       "                |               |    200 (true_energy) x 200 (true_coszen)    |    200 (true_energy) x 200 (true_coszen)    |             |               |             |                  |\n",
       "              2 |  barr_simple  |             \"true_allsky_fine\":             |             \"true_allsky_fine\":             |    True     |     True      |    False    |        1         |        4\n",
       "                |               |    200 (true_energy) x 200 (true_coszen)    |    200 (true_energy) x 200 (true_coszen)    |             |               |             |                  |\n",
       "              3 |     prob3     |             \"true_allsky_fine\":             |             \"true_allsky_fine\":             |    True     |     True      |    True     |        9         |        3\n",
       "                |               |    200 (true_energy) x 200 (true_coszen)    |    200 (true_energy) x 200 (true_coszen)    |             |               |             |                  |\n",
       "              4 |     aeff      |             \"true_allsky_fine\":             |             \"true_allsky_fine\":             |    False    |     False     |    True     |        2         |        3\n",
       "                |               |    200 (true_energy) x 200 (true_coszen)    |    200 (true_energy) x 200 (true_coszen)    |             |               |             |                  |\n",
       "              5 |     hist      |             \"true_allsky_fine\":             |            \"dragon_datarelease\":            |    True     |     False     |    True     |        0         |        0\n",
       "                |               |    200 (true_energy) x 200 (true_coszen)    | 8 (reco_energy) x 8 (reco_coszen) x 2 (pid) |             |               |             |                  |\n",
       "              6 | hypersurfaces |            \"dragon_datarelease\":            |            \"dragon_datarelease\":            |    True     |     True      |    True     |        0         |        5\n",
       "                |               | 8 (reco_energy) x 8 (reco_coszen) x 2 (pid) | 8 (reco_energy) x 8 (reco_coszen) x 2 (pid) |             |               |             |                  |"
      ]
     },
     "execution_count": 7,
     "metadata": {},
     "output_type": "execute_result"
    }
   ],
   "source": [
    "grid_modes_model"
   ]
  },
  {
   "cell_type": "markdown",
   "metadata": {},
   "source": [
    "We can compare timings. Event-by-event it takes around 8 minutes! The two other modes around 25 seconds."
   ]
  },
  {
   "cell_type": "code",
   "execution_count": null,
   "metadata": {},
   "outputs": [],
   "source": [
    "%%time\n",
    "events = events_modes_model.get_outputs()"
   ]
  },
  {
   "cell_type": "code",
   "execution_count": null,
   "metadata": {},
   "outputs": [],
   "source": [
    "%%time\n",
    "mixed = mixed_modes_model.get_outputs()"
   ]
  },
  {
   "cell_type": "code",
   "execution_count": null,
   "metadata": {},
   "outputs": [],
   "source": [
    "%%time\n",
    "grid = grid_modes_model.get_outputs()"
   ]
  },
  {
   "cell_type": "markdown",
   "metadata": {},
   "source": [
    "We can see that in this confioguration we probanbly have fine enough grids, such that differences are at the sub-percent level. This may or may not be acceptable for the specific analysis you want to do."
   ]
  },
  {
   "cell_type": "code",
   "execution_count": null,
   "metadata": {},
   "outputs": [],
   "source": [
    "fig, ax = plt.subplots(2, 3, figsize=(20, 7))\n",
    "plt.subplots_adjust(hspace=0.5)\n",
    "\n",
    "e = events.combine_wildcard('*')\n",
    "m = mixed.combine_wildcard('*') \n",
    "g = grid.combine_wildcard('*') \n",
    "\n",
    "e.plot(ax=ax[0,0], title=\"Events\")\n",
    "m.plot(ax=ax[0,1], title=\"Mixed\")\n",
    "((e - m)/e).plot(ax=ax[0,2], symm=True)\n",
    "\n",
    "e.plot(ax=ax[1,0], title=\"Events\")\n",
    "g.plot(ax=ax[1,1], title=\"Grid\")\n",
    "((e - g)/e).plot(ax=ax[1,2], symm=True)"
   ]
  },
  {
   "cell_type": "markdown",
   "metadata": {},
   "source": [
    "In depth comparison of single maps:"
   ]
  },
  {
   "cell_type": "code",
   "execution_count": null,
   "metadata": {},
   "outputs": [],
   "source": [
    "fig, axes = plt.subplots(3,4, figsize=(24,10))\n",
    "plt.subplots_adjust(hspace=0.5)\n",
    "axes = axes.flatten()\n",
    "\n",
    "diff = (events - mixed) / (events + 1e-7)\n",
    "\n",
    "for m, ax in zip(diff, axes):\n",
    "    m.plot(ax=ax, symm=True)"
   ]
  },
  {
   "cell_type": "code",
   "execution_count": null,
   "metadata": {},
   "outputs": [],
   "source": [
    "fig, axes = plt.subplots(3,4, figsize=(24,10))\n",
    "plt.subplots_adjust(hspace=0.5)\n",
    "axes = axes.flatten()\n",
    "\n",
    "diff = (events - grid) / (events + 1e-7)\n",
    "\n",
    "for m, ax in zip(diff, axes):\n",
    "    m.plot(ax=ax, symm=True)"
   ]
  },
  {
   "cell_type": "code",
   "execution_count": null,
   "metadata": {},
   "outputs": [],
   "source": []
  }
 ],
 "metadata": {
  "kernelspec": {
   "display_name": "Python 3",
   "language": "python",
   "name": "python3"
  },
  "language_info": {
   "codemirror_mode": {
    "name": "ipython",
    "version": 3
   },
   "file_extension": ".py",
   "mimetype": "text/x-python",
   "name": "python",
   "nbconvert_exporter": "python",
   "pygments_lexer": "ipython3",
   "version": "3.7.4"
  }
 },
 "nbformat": 4,
 "nbformat_minor": 4
}
